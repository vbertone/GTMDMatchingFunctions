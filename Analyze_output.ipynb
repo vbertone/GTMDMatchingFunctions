{
 "cells": [
  {
   "cell_type": "code",
   "execution_count": null,
   "metadata": {},
   "outputs": [],
   "source": [
    "import numpy as np\n",
    "import matplotlib.pyplot as plt\n",
    "from matplotlib.ticker import ScalarFormatter"
   ]
  },
  {
   "cell_type": "code",
   "execution_count": null,
   "metadata": {},
   "outputs": [],
   "source": [
    "def create_plot(data, gtmd_name, t_label, col1, col2, file_name):\n",
    "    # Create a figure and gridspec\n",
    "    fig = plt.figure(figsize=(8, 8))\n",
    "    fig.suptitle(\n",
    "        t_label, fontsize=16, y=0.95\n",
    "    )\n",
    "    gs = fig.add_gridspec(\n",
    "        2, 1, height_ratios=[3, 1], hspace=0\n",
    "    )  # Adjust heights and remove vertical space\n",
    "\n",
    "    # Top plot: Two curves\n",
    "    ax1 = fig.add_subplot(gs[0, 0])\n",
    "    plt.plot(data[:, 0], data[:, col1], label=\"T-even part\", color=\"black\")\n",
    "    plt.plot(data[:, 0], -data[:, col2], label=\"-(T-odd) part\", color=\"red\")\n",
    "    plt.ylabel(gtmd_name, fontsize=14)\n",
    "    ax1.legend(\n",
    "        loc=\"upper right\",\n",
    "        fontsize=12,\n",
    "    )\n",
    "    # Customize the y-axis to display numbers in scientific notation with 10^{-6} format\n",
    "    formatter = ScalarFormatter(useMathText=True)\n",
    "    formatter.set_powerlimits((-1, 1))  # Force scientific notation for small numbers\n",
    "    ax1.yaxis.set_major_formatter(formatter)\n",
    "    ax1.ticklabel_format(style='scientific', axis='y', scilimits=(0,0))\n",
    "    ax1.yaxis.offsetText.set_fontsize(14)  # Adjust font size for the scale factor\n",
    "\n",
    "    ax1.grid(True)\n",
    "\n",
    "    # Bottom plot: Ratio\n",
    "    ax2 = fig.add_subplot(gs[1, 0], sharex=ax1)  # Share x-axis with the top plot\n",
    "    ax2.plot(\n",
    "        data[:, 0],\n",
    "        1 - (-data[:, col2]) / (data[:, col1]),\n",
    "        label=\"y2 / y1\",\n",
    "        color=\"black\",\n",
    "    )\n",
    "    plt.xlim(min(data[:, 0] - 0.001), max(data[:, 0]))\n",
    "    plt.xlabel(\"$k_T \\\\quad [GeV]$\", fontsize=14)\n",
    "    ax2.set_ylabel(\"1 $-$ Ratio\", fontsize=14)\n",
    "    ax2.grid(True)\n",
    "\n",
    "    # Remove x-tick labels on the top plot to avoid overlap\n",
    "    ax1.tick_params(labelbottom=False)\n",
    "\n",
    "    # Save the plot as a PDF\n",
    "    plt.savefig(file_name, format=\"pdf\", bbox_inches=\"tight\")\n",
    "\n",
    "    # Display the plot\n",
    "    plt.show()"
   ]
  },
  {
   "cell_type": "code",
   "execution_count": null,
   "metadata": {},
   "outputs": [],
   "source": [
    "data = np.loadtxt(\"S11a0plusUp.dat\")\n",
    "create_plot(\n",
    "    data,\n",
    "    \"$S_{1,1a}^{0,+,q; UU}$\",\n",
    "    \"$x = 0.2 \\\\quad \\\\xi = 0.3 \\\\quad t \\\\sim -0.496$ GeV$^2$\",\n",
    "    9,\n",
    "    11,\n",
    "    \"plot_S11a0plusUp_x0p2_xi0p3_tm0p496_UU.pdf\"\n",
    ")\n",
    "create_plot(\n",
    "    data,\n",
    "    \"$S_{1,1a}^{0,+,q; UT}$\",\n",
    "    \"$x = 0.2 \\\\quad \\\\xi = 0.3 \\\\quad t \\\\sim -0.496$ GeV$^2$\",\n",
    "    10,\n",
    "    12,\n",
    "    \"plot_S11a0plusUp_x0p2_xi0p3_tm0p496_UT.pdf\",\n",
    ")"
   ]
  },
  {
   "cell_type": "code",
   "execution_count": null,
   "metadata": {},
   "outputs": [],
   "source": []
  }
 ],
 "metadata": {
  "kernelspec": {
   "display_name": "Python 3",
   "language": "python",
   "name": "python3"
  },
  "language_info": {
   "codemirror_mode": {
    "name": "ipython",
    "version": 3
   },
   "file_extension": ".py",
   "mimetype": "text/x-python",
   "name": "python",
   "nbconvert_exporter": "python",
   "pygments_lexer": "ipython3",
   "version": "3.12.3"
  }
 },
 "nbformat": 4,
 "nbformat_minor": 2
}

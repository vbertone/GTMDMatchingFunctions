{
 "cells": [
  {
   "cell_type": "code",
   "execution_count": null,
   "metadata": {},
   "outputs": [],
   "source": [
    "import numpy as np\n",
    "import matplotlib.pyplot as plt"
   ]
  },
  {
   "cell_type": "code",
   "execution_count": null,
   "metadata": {},
   "outputs": [],
   "source": [
    "data = np.loadtxt(\"output_Main.dat\")"
   ]
  },
  {
   "cell_type": "code",
   "execution_count": null,
   "metadata": {},
   "outputs": [],
   "source": [
    "# Create a figure and gridspec\n",
    "fig = plt.figure(figsize=(8, 8))\n",
    "fig.suptitle(\"$x = 0.2 \\\\quad \\\\xi = 0.3 \\\\quad t = -0.1$ GeV$^2$\", fontsize=16, y=0.95)\n",
    "gs = fig.add_gridspec(\n",
    "    2, 1, height_ratios=[3, 1], hspace=0\n",
    ")  # Adjust heights and remove vertical space\n",
    "\n",
    "# Top plot: Two curves\n",
    "ax1 = fig.add_subplot(gs[0, 0])\n",
    "plt.plot(data[:, 0], data[:, 1], label=\"T-even part\", color=\"black\")\n",
    "plt.plot(data[:, 0], -data[:, 2], label=\"-(T-odd) part\", color=\"red\")\n",
    "plt.ylabel(\"$S_{1,1a}^{0,+,q}$\", fontsize=14)\n",
    "ax1.legend(\n",
    "    loc=\"upper right\",\n",
    "    fontsize=12,\n",
    ")\n",
    "ax1.grid(True)\n",
    "\n",
    "# Bottom plot: Ratio\n",
    "ax2 = fig.add_subplot(gs[1, 0], sharex=ax1)  # Share x-axis with the top plot\n",
    "ax2.plot(data[:, 0], 1 - (- data[:, 2]) / (data[:, 1]), label=\"y2 / y1\", color=\"black\")\n",
    "plt.xlim(min(data[:, 0] - 0.001), max(data[:, 0]))\n",
    "plt.xlabel(\"$k_T \\\\quad [GeV]$\", fontsize=14)\n",
    "ax2.set_ylabel(\"1 $-$ Ratio\", fontsize=14)\n",
    "ax2.grid(True)\n",
    "\n",
    "# Remove x-tick labels on the top plot to avoid overlap\n",
    "ax1.tick_params(labelbottom=False)\n",
    "\n",
    "# Save the plot as a PDF\n",
    "plt.savefig(\"plot.pdf\", format=\"pdf\", bbox_inches=\"tight\")\n",
    "\n",
    "# Display the plot\n",
    "plt.show()"
   ]
  },
  {
   "cell_type": "code",
   "execution_count": null,
   "metadata": {},
   "outputs": [],
   "source": []
  }
 ],
 "metadata": {
  "kernelspec": {
   "display_name": "usr",
   "language": "python",
   "name": "python3"
  },
  "language_info": {
   "codemirror_mode": {
    "name": "ipython",
    "version": 3
   },
   "file_extension": ".py",
   "mimetype": "text/x-python",
   "name": "python",
   "nbconvert_exporter": "python",
   "pygments_lexer": "ipython3",
   "version": "3.12.3"
  }
 },
 "nbformat": 4,
 "nbformat_minor": 2
}
